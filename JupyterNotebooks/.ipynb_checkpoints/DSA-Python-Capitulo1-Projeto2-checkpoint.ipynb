{
 "cells": [
  {
   "cell_type": "markdown",
   "metadata": {},
   "source": [
    "# Projeto 2"
   ]
  },
  {
   "cell_type": "markdown",
   "metadata": {},
   "source": [
    "## Contando as frutas no cesto"
   ]
  },
  {
   "cell_type": "code",
   "execution_count": 1,
   "metadata": {
    "collapsed": false
   },
   "outputs": [
    {
     "name": "stdout",
     "output_type": "stream",
     "text": [
      "{'orange': 3, 'apple': 3, 'grape': 2}\n"
     ]
    }
   ],
   "source": [
    "# Projeto 2 - Contando as frutas no cesto\n",
    "pantry = [\"apple\", \"orange\", \"grape\", \"apple\", \"orange\", \"apple\", \"orange\", \"grape\"]\n",
    "\n",
    "# Create an empty dictionary\n",
    "pantry_counts = {}\n",
    "\n",
    "# Loop through the whole list\n",
    "for item in pantry:\n",
    "\tif item in pantry_counts:\n",
    "\t\tpantry_counts[item] = pantry_counts[item] + 1\n",
    "\telse:\n",
    "\t\tpantry_counts[item] = 1\n",
    "\n",
    "print(pantry_counts)"
   ]
  },
  {
   "cell_type": "code",
   "execution_count": null,
   "metadata": {
    "collapsed": true
   },
   "outputs": [],
   "source": []
  }
 ],
 "metadata": {
  "kernelspec": {
   "display_name": "Python 3",
   "language": "python",
   "name": "python3"
  },
  "language_info": {
   "codemirror_mode": {
    "name": "ipython",
    "version": 3
   },
   "file_extension": ".py",
   "mimetype": "text/x-python",
   "name": "python",
   "nbconvert_exporter": "python",
   "pygments_lexer": "ipython3",
   "version": "3.5.0"
  }
 },
 "nbformat": 4,
 "nbformat_minor": 0
}
