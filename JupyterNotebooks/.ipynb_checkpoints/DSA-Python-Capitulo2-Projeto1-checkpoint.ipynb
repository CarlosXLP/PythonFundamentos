{
 "cells": [
  {
   "cell_type": "markdown",
   "metadata": {},
   "source": [
    "# Projeto 2"
   ]
  },
  {
   "cell_type": "markdown",
   "metadata": {},
   "source": [
    "## Projeto 2 - Neste projeto, iremos criar um programa usando o que aprendemos sobre Loops e Condicionais\n",
    "\n",
    "## Crie um programa que irá ler um número da tela de entrada e enquanto o número for diferente de 1, o número será\n",
    "## armazenado em um array. Quando o usuário digitar 1, o programa deve finalizar e imprimir na tela o array de\n",
    "## números digitados e informar se os números são pares ou ímpares.\n",
    "## Dica: utilize um tratamento de erro em cada bloco"
   ]
  },
  {
   "cell_type": "markdown",
   "metadata": {},
   "source": [
    "# Solução"
   ]
  },
  {
   "cell_type": "code",
   "execution_count": 2,
   "metadata": {
    "collapsed": false
   },
   "outputs": [
    {
     "name": "stdout",
     "output_type": "stream",
     "text": [
      "Digite um número (digite 1 para finalizar): 23\n",
      "Digite um número (digite 1 para finalizar): 11\n",
      "Digite um número (digite 1 para finalizar): 44\n",
      "Digite um número (digite 1 para finalizar): 32\n",
      "Digite um número (digite 1 para finalizar): 12\n",
      "Digite um número (digite 1 para finalizar): 1\n",
      "Este é o array de números que você digitou: [23, 11, 44, 32, 12, 1]\n",
      "O número na posição 0 é ímpar\n",
      "O número na posição 1 é ímpar\n",
      "O número na posição 2 é par\n",
      "O número na posição 3 é par\n",
      "O número na posição 4 é par\n",
      "O número na posição 5 é ímpar\n"
     ]
    }
   ],
   "source": [
    "# Inicializa as variáveis\n",
    "num = 0\n",
    "arrayNum = []\n",
    "\n",
    "# Armazena os números em um array de números\n",
    "try:\n",
    "    while num != 1:\n",
    "        Numero = input(\"Digite um número (digite 1 para finalizar): \")\n",
    "        num = int(Numero)\n",
    "        arrayNum.append(num)\n",
    "except:\n",
    "    print(\"Ocorreu um erro ao ler o número digitado\")\n",
    "\n",
    "# Imprime o array e depois informa se os números são pares ou ímpares\n",
    "print(\"Este é o array de números que você digitou: \" + str(arrayNum))\n",
    "try:\n",
    "    for i in arrayNum:\n",
    "        if i % 2 == 0:\n",
    "            print(\"O número na posição \" + str(arrayNum.index(i)) + \" é par\")\n",
    "        else:\n",
    "            print(\"O número na posição \" + str(arrayNum.index(i)) + \" é ímpar\")\n",
    "except:\n",
    "    print(\"Não foi possível informar se o número á par ou ímpar\")"
   ]
  },
  {
   "cell_type": "code",
   "execution_count": null,
   "metadata": {
    "collapsed": true
   },
   "outputs": [],
   "source": []
  }
 ],
 "metadata": {
  "kernelspec": {
   "display_name": "Python 3",
   "language": "python",
   "name": "python3"
  },
  "language_info": {
   "codemirror_mode": {
    "name": "ipython",
    "version": 3
   },
   "file_extension": ".py",
   "mimetype": "text/x-python",
   "name": "python",
   "nbconvert_exporter": "python",
   "pygments_lexer": "ipython3",
   "version": "3.5.0"
  }
 },
 "nbformat": 4,
 "nbformat_minor": 0
}
