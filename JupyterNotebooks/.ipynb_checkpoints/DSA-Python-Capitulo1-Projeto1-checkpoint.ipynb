{
 "cells": [
  {
   "cell_type": "markdown",
   "metadata": {},
   "source": [
    "# Projeto 1"
   ]
  },
  {
   "cell_type": "markdown",
   "metadata": {},
   "source": [
    "## Projeto 1: Neste projeto, vamos criar um programa que permita você armazenar seus itens preferidos.\n",
    "\n",
    "## Passo 1 - Criar uma lista de suas múscias favoritas. Em seguida, crie uma lista de seu filmes favoritos.\n",
    "## Junte as duas listas em uma nova lista chamada \"preferencias\".\n",
    "## (Dica: Lista1 + Lista2). Finalmente, acrescentar o seu livro favorito no fim da lista e impriir a lista.\n",
    "## Em seguida, seu programa deve obter do usuario, o nome e sobrenome e o item que deseja adicionar na lista de preferencias.\n",
    "## (Dica: use Nome = input(“Digite seu nome: ”)) e faça o mesmo com os demais dados que precisam ser obtidos.\n",
    "## Por fim, imprima a mensagem (\"Olá, Nome + Sobrenome\". Você adicionou o item x e esta é a sua lista)\n",
    "## (Dica use %s symbols)"
   ]
  },
  {
   "cell_type": "markdown",
   "metadata": {},
   "source": [
    "# Solução"
   ]
  },
  {
   "cell_type": "code",
   "execution_count": 2,
   "metadata": {
    "collapsed": false
   },
   "outputs": [
    {
     "name": "stdout",
     "output_type": "stream",
     "text": [
      "Digite seu nome: David\n",
      "Digite seu sobrenome: Matos\n",
      "Digite um item para incluir na sua lista de preferências: O Código da Vinci\n",
      "Olá David Matos, você adicionou o item O Código da Vinci a sua lista. Sua lista de preferencias agora é ['With or Without You - U2', 'Money - Pink Floyd', 'Broken - Tears For Fears', 'De Volta para o Futuro', 'Vingadores', 'Exterminador do Futuro', 'Grande Sertão Veredas', 'O Código da Vinci']\n"
     ]
    }
   ],
   "source": [
    "# Parte 1\n",
    "Lista1 = [\"With or Without You - U2\", \"Money - Pink Floyd\", \"Broken - Tears For Fears\"]\n",
    "Lista2 = [\"De Volta para o Futuro\", \"Vingadores\", \"Exterminador do Futuro\"]\n",
    "Preferencias = Lista1 + Lista2\n",
    "Preferencias.append(\"Grande Sertão Veredas\")\n",
    "\n",
    "# Parte 2\n",
    "Nome = input(\"Digite seu nome: \")\n",
    "Sobrenome = input(\"Digite seu sobrenome: \")\n",
    "Item = input(\"Digite um item para incluir na sua lista de preferências: \")\n",
    "fullName = Nome + \" \" + Sobrenome\n",
    "Preferencias.append(Item)\n",
    "\n",
    "# Parte 3\n",
    "mensagem = \"Olá %s, você adicionou o item %s a sua lista. Sua lista de preferencias agora é \"\n",
    "print(mensagem%(fullName, Item) + str(Preferencias))\n"
   ]
  },
  {
   "cell_type": "code",
   "execution_count": null,
   "metadata": {
    "collapsed": true
   },
   "outputs": [],
   "source": []
  }
 ],
 "metadata": {
  "kernelspec": {
   "display_name": "Python 3",
   "language": "python",
   "name": "python3"
  },
  "language_info": {
   "codemirror_mode": {
    "name": "ipython",
    "version": 3
   },
   "file_extension": ".py",
   "mimetype": "text/x-python",
   "name": "python",
   "nbconvert_exporter": "python",
   "pygments_lexer": "ipython3",
   "version": "3.5.0"
  }
 },
 "nbformat": 4,
 "nbformat_minor": 0
}
